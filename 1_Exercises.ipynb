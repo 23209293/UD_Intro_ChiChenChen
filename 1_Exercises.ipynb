{
 "cells": [
  {
   "cell_type": "markdown",
   "id": "38e188a5",
   "metadata": {},
   "source": [
    "# Exercise 00\n",
    "Write a piece of code that allocates a list of 20 integers and initializes each element by its index multiplied by 5. Print the result."
   ]
  },
  {
   "cell_type": "code",
   "execution_count": 2,
   "id": "01aa4f35",
   "metadata": {},
   "outputs": [
    {
     "name": "stdout",
     "output_type": "stream",
     "text": [
      "[0, 5, 10, 15, 20, 25, 30, 35, 40, 45, 50, 55, 60, 65, 70, 75, 80, 85, 90, 95]\n"
     ]
    }
   ],
   "source": [
    "result = []\n",
    "for i in range(20):\n",
    "       result += [i * 5]\n",
    "print(result)"
   ]
  },
  {
   "cell_type": "markdown",
   "id": "529d91ae",
   "metadata": {},
   "source": [
    "# Exercise 01\n",
    "Define a function that takes an integer as input, prints  all integers that it is divisable by, and returns the largest one."
   ]
  },
  {
   "cell_type": "code",
   "execution_count": 54,
   "id": "30e79132",
   "metadata": {},
   "outputs": [],
   "source": [
    "def find_divisors(n):\n",
    "    largest_divisor = 0\n",
    "    print(\"Divisors of\" ,  n , \":\")\n",
    "    \n",
    "    for i in range(1, n + 1):  \n",
    "        if n % i == 0:\n",
    "            print(i)\n",
    "            largest_divisor = i\n",
    "    return largest_divisor        "
   ]
  },
  {
   "cell_type": "code",
   "execution_count": 56,
   "id": "b24855cd-beda-4951-9ee8-34b50ccdcd35",
   "metadata": {},
   "outputs": [
    {
     "name": "stdout",
     "output_type": "stream",
     "text": [
      "Divisors of 20 :\n",
      "1\n",
      "2\n",
      "4\n",
      "5\n",
      "10\n",
      "20\n",
      "Largest divisor: 20\n"
     ]
    }
   ],
   "source": [
    "result = find_divisors(20)\n",
    "print(\"Largest divisor:\", result)"
   ]
  },
  {
   "cell_type": "markdown",
   "id": "cfbe30d4",
   "metadata": {},
   "source": [
    "# Exercise 02\n",
    "- create a dictionary with 6 keys and values of your choice\n",
    "- write a function that takes a dictionary and a value as input and returns whether the value occurs as a key in the dictionary\n",
    "- write a function that takes a dictionary as input, and returns the dictionary but the keys are swapped with their values (resolve the issue if a value occurs twice!)"
   ]
  },
  {
   "cell_type": "code",
   "execution_count": 50,
   "id": "2123f1c6",
   "metadata": {},
   "outputs": [],
   "source": [
    "my_dict = {\n",
    "    \"red\": 1,\n",
    "    \"orange\": 2,\n",
    "    \"yello\": 3,\n",
    "    \"green\": 4,\n",
    "    \"blue\": 5,\n",
    "    \"purple\": 6\n",
    "}\n",
    "def is_value_a_key(dictionary, value):\n",
    "    return value in dictionary\n",
    "    \n",
    "def swap_keys_and_values(dictionary):\n",
    "    swapped_dict = {} \n",
    "    for key, value in dictionary.items(): \n",
    "       if value not in swapped_dict:\n",
    "            swapped_dict[value] = key\n",
    "    return swapped_dict"
   ]
  },
  {
   "cell_type": "code",
   "execution_count": 52,
   "id": "ebdeb883-9277-4902-9d1c-dd386cd5f399",
   "metadata": {},
   "outputs": [
    {
     "name": "stdout",
     "output_type": "stream",
     "text": [
      "Is 6 a key? False\n",
      "Swapped dictionary: {1: 'red', 2: 'orange', 3: 'yello', 4: 'green', 5: 'blue', 6: 'purple'}\n"
     ]
    }
   ],
   "source": [
    "value_to_check = 6\n",
    "print(f\"Is {value_to_check} a key? {is_value_a_key(my_dict, value_to_check)}\")\n",
    "\n",
    "swapped = swap_keys_and_values(my_dict)\n",
    "print(\"Swapped dictionary:\", swapped)"
   ]
  },
  {
   "cell_type": "markdown",
   "id": "b4b4e426",
   "metadata": {},
   "source": [
    "# Exercise 03\n",
    "Define a function that creates a dictionary of the first n fibonacci numbers as values paired with their indices as keys. "
   ]
  },
  {
   "cell_type": "code",
   "execution_count": 44,
   "id": "7845b5a4",
   "metadata": {},
   "outputs": [],
   "source": [
    "def fibonacci_dict(n):\n",
    "    fib_dict = {}\n",
    "    a, b = 0, 1\n",
    "\n",
    "    for i in range(n):\n",
    "        fib_dict[i] = a\n",
    "        a, b = b, a + b\n",
    "    return fib_dict"
   ]
  },
  {
   "cell_type": "code",
   "execution_count": 58,
   "id": "e5e8c04e-84f6-4e6c-867b-959eb2a0ca32",
   "metadata": {},
   "outputs": [
    {
     "name": "stdout",
     "output_type": "stream",
     "text": [
      "{0: 0, 1: 1, 2: 1, 3: 2, 4: 3}\n"
     ]
    }
   ],
   "source": [
    "n = 5\n",
    "result = fibonacci_dict(n)\n",
    "print(result)"
   ]
  }
 ],
 "metadata": {
  "kernelspec": {
   "display_name": "Python 3 (ipykernel)",
   "language": "python",
   "name": "python3"
  },
  "language_info": {
   "codemirror_mode": {
    "name": "ipython",
    "version": 3
   },
   "file_extension": ".py",
   "mimetype": "text/x-python",
   "name": "python",
   "nbconvert_exporter": "python",
   "pygments_lexer": "ipython3",
   "version": "3.12.7"
  }
 },
 "nbformat": 4,
 "nbformat_minor": 5
}
